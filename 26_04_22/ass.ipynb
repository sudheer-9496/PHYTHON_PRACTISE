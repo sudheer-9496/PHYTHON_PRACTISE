{
  "nbformat": 4,
  "nbformat_minor": 0,
  "metadata": {
    "colab": {
      "name": "26/04/22.ipynb",
      "provenance": [],
      "authorship_tag": "ABX9TyP3UhUNGJdV8t2GIlyCaaKk",
      "include_colab_link": true
    },
    "kernelspec": {
      "name": "python3",
      "display_name": "Python 3"
    },
    "language_info": {
      "name": "python"
    }
  },
  "cells": [
    {
      "cell_type": "markdown",
      "metadata": {
        "id": "view-in-github",
        "colab_type": "text"
      },
      "source": [
        "<a href=\"https://colab.research.google.com/github/sudheer-9496/PHYTHON_PRACTISE/blob/module1/26_04_22/ass.ipynb\" target=\"_parent\"><img src=\"https://colab.research.google.com/assets/colab-badge.svg\" alt=\"Open In Colab\"/></a>"
      ]
    },
    {
      "cell_type": "markdown",
      "source": [
        "1.To print odd no in given range"
      ],
      "metadata": {
        "id": "7FSBjOAGdqh-"
      }
    },
    {
      "cell_type": "code",
      "source": [
        "a=int(input())\n",
        "b=int(input())\n",
        "for i in range(a,b):\n",
        "  if i%2!=0:\n",
        "    print(i)\n"
      ],
      "metadata": {
        "colab": {
          "base_uri": "https://localhost:8080/"
        },
        "id": "KxSUjY6ud1js",
        "outputId": "46e525ba-1acb-47bc-845c-6a5c84ee073f"
      },
      "execution_count": 4,
      "outputs": [
        {
          "output_type": "stream",
          "name": "stdout",
          "text": [
            "30\n",
            "40\n",
            "31\n",
            "33\n",
            "35\n",
            "37\n",
            "39\n"
          ]
        }
      ]
    },
    {
      "cell_type": "markdown",
      "source": [
        "2.To print prime no in given range"
      ],
      "metadata": {
        "id": "HTi4jmK5ecMm"
      }
    },
    {
      "cell_type": "code",
      "source": [
        "def prime(a,b):\n",
        "  for i in range(a,b):\n",
        "    k=0\n",
        "    for j in range(1,i):\n",
        "      if i%j==0:\n",
        "        k+=1\n",
        "    if k==1:\n",
        "      print(i)\n",
        "prime(int(input()),int(input()))\n",
        "\n"
      ],
      "metadata": {
        "colab": {
          "base_uri": "https://localhost:8080/"
        },
        "id": "uNLUzEp6ei3N",
        "outputId": "955b64c8-14f7-4910-d2a4-ed046e559abc"
      },
      "execution_count": 24,
      "outputs": [
        {
          "output_type": "stream",
          "name": "stdout",
          "text": [
            "1\n",
            "10\n",
            "2\n",
            "3\n",
            "5\n",
            "7\n"
          ]
        }
      ]
    },
    {
      "cell_type": "markdown",
      "source": [
        "3.TO PRINT no of days in a month"
      ],
      "metadata": {
        "id": "p6UFvsEYfNEu"
      }
    },
    {
      "cell_type": "code",
      "source": [
        "mon=int(input())\n",
        "if mon==1 or mon==3 or mon==5 or mon==7 or mon==8 or mon==10 or mon==12:\n",
        "  print(\"31\") \n",
        "elif mon==4 or mon==6 or mon==9 or mon==8 or mon==11 : \n",
        "    print(\"30\") \n",
        "elif mon==2: \n",
        "    print(\"28\")    \n",
        "else:\n",
        "  print(\"not found\")    \n"
      ],
      "metadata": {
        "colab": {
          "base_uri": "https://localhost:8080/"
        },
        "id": "j-8XnMR3fW3l",
        "outputId": "9e198410-40d7-4037-d24c-b6ca00f20a4b"
      },
      "execution_count": 26,
      "outputs": [
        {
          "output_type": "stream",
          "name": "stdout",
          "text": [
            "13\n",
            "not found\n"
          ]
        }
      ]
    },
    {
      "cell_type": "markdown",
      "source": [
        "4.To print even length"
      ],
      "metadata": {
        "id": "QmV7A7Hnk822"
      }
    },
    {
      "cell_type": "code",
      "source": [
        "word=str(input())\n",
        "word=word.split(' ')\n",
        "for a in word:\n",
        "  if len(a)%2==0:\n",
        "    print(a) \n",
        "\n"
      ],
      "metadata": {
        "colab": {
          "base_uri": "https://localhost:8080/"
        },
        "id": "r-v7yrqok9f_",
        "outputId": "89cfce0c-ffd9-4c8b-b35b-c3e1ab4d2072"
      },
      "execution_count": 28,
      "outputs": [
        {
          "output_type": "stream",
          "name": "stdout",
          "text": [
            "hello word\n",
            "word\n"
          ]
        }
      ]
    },
    {
      "cell_type": "markdown",
      "source": [
        "5.To print 1st and last capital\n"
      ],
      "metadata": {
        "id": "0iMJTKFwmfof"
      }
    },
    {
      "cell_type": "code",
      "source": [
        ""
      ],
      "metadata": {
        "id": "D5alO1sdm6f2"
      },
      "execution_count": null,
      "outputs": []
    },
    {
      "cell_type": "markdown",
      "source": [
        "6.To convert multiple integers to single integers"
      ],
      "metadata": {
        "id": "SmntpseOpP2A"
      }
    },
    {
      "cell_type": "code",
      "source": [
        "a=[10,13,15,17]\n",
        "for i in a:\n",
        "  print(i,end=\"\")"
      ],
      "metadata": {
        "colab": {
          "base_uri": "https://localhost:8080/"
        },
        "id": "OmrDt4WDpYvX",
        "outputId": "88ed4a71-5f79-4936-a8c9-fbbbef233422"
      },
      "execution_count": 48,
      "outputs": [
        {
          "output_type": "stream",
          "name": "stdout",
          "text": [
            "10131517"
          ]
        }
      ]
    },
    {
      "cell_type": "code",
      "source": [
        ""
      ],
      "metadata": {
        "id": "bNrmK-tEsxUB"
      },
      "execution_count": null,
      "outputs": []
    }
  ]
}