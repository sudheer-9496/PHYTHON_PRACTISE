{
  "nbformat": 4,
  "nbformat_minor": 0,
  "metadata": {
    "colab": {
      "name": "07-04-22.ipynb",
      "provenance": [],
      "authorship_tag": "ABX9TyNCK+CkVz0O3qO4SmuHX11H",
      "include_colab_link": true
    },
    "kernelspec": {
      "name": "python3",
      "display_name": "Python 3"
    },
    "language_info": {
      "name": "python"
    }
  },
  "cells": [
    {
      "cell_type": "markdown",
      "metadata": {
        "id": "view-in-github",
        "colab_type": "text"
      },
      "source": [
        "<a href=\"https://colab.research.google.com/github/sudheer-9496/PHYTHON_PRACTISE/blob/module1/07_04_22.ipynb\" target=\"_parent\"><img src=\"https://colab.research.google.com/assets/colab-badge.svg\" alt=\"Open In Colab\"/></a>"
      ]
    },
    {
      "cell_type": "markdown",
      "source": [
        "##tuples\n"
      ],
      "metadata": {
        "id": "cFJITvq50YkA"
      }
    },
    {
      "cell_type": "code",
      "execution_count": 28,
      "metadata": {
        "colab": {
          "base_uri": "https://localhost:8080/"
        },
        "id": "I2nPE6-oj0oI",
        "outputId": "700258f5-1dbc-4315-a8a9-7b01ea74ff79"
      },
      "outputs": [
        {
          "output_type": "stream",
          "name": "stdout",
          "text": [
            "apple\n",
            "3\n",
            "('apple', 'banana', 'cherry', 'yellow')\n",
            "('apple', 'cherry', 'orange')\n"
          ]
        }
      ],
      "source": [
        "a=(\"apple\",\"banana\",\"cherry\")\n",
        "(red,blue,green)=a\n",
        "print(red)\n",
        "c=len(a)\n",
        "print(c)\n",
        "w = list(a)\n",
        "w.append(\"orange\")\n",
        "z=(\"yellow\",)\n",
        "a +=z\n",
        "print(a)\n",
        "w.remove(\"banana\")\n",
        "a=tuple(w)\n",
        "print(a)"
      ]
    },
    {
      "cell_type": "markdown",
      "source": [
        "## sets"
      ],
      "metadata": {
        "id": "4rQ1LYuk0UlC"
      }
    },
    {
      "cell_type": "code",
      "source": [
        "a = {\"apple\", \"banana\", \"cherry\", \"apple\"}\n",
        "print(a)\n",
        "print(len(a))\n",
        "\n",
        "set1 = {\"apple\", \"banana\", \"cherry\"}\n",
        "set2 = {1, 5, 7, 9, 3}\n",
        "set3 = {True, False, False}\n",
        "print(set1)\n",
        "print(set2)\n",
        "print(set3)\n",
        "\n",
        "set1 = {\"abc\", 34, True, 40, \"male\"}\n",
        "print(set1)\n",
        "\n",
        "myset = {\"apple\", \"banana\", \"cherry\"}\n",
        "print(type(myset))\n",
        "\n",
        "a = set((\"apple\", \"banana\", \"cherry\")) # note the double round-brackets\n",
        "print(a)\n",
        "for x in a:\n",
        "  print(x)\n",
        "print(\"banana\" in a)\n",
        "\n",
        "a.add(\"orange\")\n",
        "print(a)\n",
        "\n",
        "tropical = {\"pineapple\", \"mango\", \"papaya\"}\n",
        "a.update(tropical)\n",
        "print(a)\n",
        "\n",
        "mylist = [\"kiwi\", \"orange\"]\n",
        "a.update(mylist)\n",
        "print(a)\n",
        "\n",
        "a.remove(\"banana\")\n",
        "print(a)\n",
        "\n",
        "a.discard(\"banana\")\n",
        "\n",
        "print(a)"
      ],
      "metadata": {
        "colab": {
          "base_uri": "https://localhost:8080/"
        },
        "id": "cdvmxPMomEfa",
        "outputId": "6ecc08cd-059a-4867-d4b0-7f34748f0ff3"
      },
      "execution_count": 40,
      "outputs": [
        {
          "output_type": "stream",
          "name": "stdout",
          "text": [
            "{'banana', 'apple', 'cherry'}\n",
            "3\n",
            "{'banana', 'apple', 'cherry'}\n",
            "{1, 3, 5, 7, 9}\n",
            "{False, True}\n",
            "{True, 34, 'male', 40, 'abc'}\n",
            "<class 'set'>\n",
            "{'banana', 'apple', 'cherry'}\n",
            "banana\n",
            "apple\n",
            "cherry\n",
            "True\n",
            "{'banana', 'apple', 'orange', 'cherry'}\n",
            "{'banana', 'pineapple', 'cherry', 'papaya', 'orange', 'apple', 'mango'}\n",
            "{'banana', 'pineapple', 'cherry', 'papaya', 'orange', 'apple', 'kiwi', 'mango'}\n",
            "{'pineapple', 'cherry', 'papaya', 'orange', 'apple', 'kiwi', 'mango'}\n",
            "{'pineapple', 'cherry', 'papaya', 'orange', 'apple', 'kiwi', 'mango'}\n"
          ]
        }
      ]
    }
  ]
}