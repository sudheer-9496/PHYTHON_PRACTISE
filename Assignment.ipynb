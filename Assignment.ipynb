{
  "nbformat": 4,
  "nbformat_minor": 0,
  "metadata": {
    "colab": {
      "name": "Assignment.ipynb",
      "provenance": [],
      "authorship_tag": "ABX9TyMpTEpq74d8o+1WpFpYJLOS",
      "include_colab_link": true
    },
    "kernelspec": {
      "name": "python3",
      "display_name": "Python 3"
    },
    "language_info": {
      "name": "python"
    }
  },
  "cells": [
    {
      "cell_type": "markdown",
      "metadata": {
        "id": "view-in-github",
        "colab_type": "text"
      },
      "source": [
        "<a href=\"https://colab.research.google.com/github/sudheer-9496/PHYTHON_PRACTISE/blob/module1/Assignment.ipynb\" target=\"_parent\"><img src=\"https://colab.research.google.com/assets/colab-badge.svg\" alt=\"Open In Colab\"/></a>"
      ]
    },
    {
      "cell_type": "code",
      "execution_count": 1,
      "metadata": {
        "colab": {
          "base_uri": "https://localhost:8080/"
        },
        "id": "2F1CyauBUPn3",
        "outputId": "b86b8bb3-9f9f-4bc0-a71d-c2e8fe2470d9"
      },
      "outputs": [
        {
          "output_type": "stream",
          "name": "stdout",
          "text": [
            "hi\n",
            "hi\n"
          ]
        }
      ],
      "source": [
        "##Accept input from user and store it in variable and print the value\n",
        "a=input()\n",
        "print(a)"
      ]
    },
    {
      "cell_type": "code",
      "source": [
        "##Use of print statements and use of (.format )for printing different data types.\n"
      ],
      "metadata": {
        "id": "brScDUBIUyl7"
      },
      "execution_count": null,
      "outputs": []
    },
    {
      "cell_type": "code",
      "source": [
        "## Take 2 numbers as user input and add, multiply, divide, subtract, remainder and print the output\n",
        "a=int(input())\n",
        "b=int(input())\n",
        "sum=a+b\n",
        "multi=a*b\n",
        "div=a/b\n",
        "sub=a-b\n",
        "print(sum,multi,div,sub)"
      ],
      "metadata": {
        "colab": {
          "base_uri": "https://localhost:8080/"
        },
        "id": "QR1rcjVAU03O",
        "outputId": "5fa92a19-0c67-40e9-bd54-cf12a7f056ae"
      },
      "execution_count": 4,
      "outputs": [
        {
          "output_type": "stream",
          "name": "stdout",
          "text": [
            "10\n",
            "20\n",
            "30 200 0.5 -10\n"
          ]
        }
      ]
    },
    {
      "cell_type": "code",
      "source": [
        "##x Conversion of one unit to another (such as hours to minutes, miles to km and etc)\n",
        "h=int(input())\n",
        "m=int(input())\n",
        "min=h*60\n",
        "km=1.60934*m\n",
        "print(min,km)"
      ],
      "metadata": {
        "colab": {
          "base_uri": "https://localhost:8080/"
        },
        "id": "0OUSllQPVtxk",
        "outputId": "bcc461ea-844d-480a-b8a3-7913677bbcc5"
      },
      "execution_count": 5,
      "outputs": [
        {
          "output_type": "stream",
          "name": "stdout",
          "text": [
            "5\n",
            "12\n",
            "300 19.31208\n"
          ]
        }
      ]
    },
    {
      "cell_type": "code",
      "source": [
        "##Building a mathematical calculator that can perform operations according to user input.Use decision making statement.\n",
        "n1=int(input())\n",
        "n2=int(input())\n",
        "if add :\n",
        "  a+b\n",
        "  "
      ],
      "metadata": {
        "id": "9KR0aKKRWb04"
      },
      "execution_count": null,
      "outputs": []
    },
    {
      "cell_type": "code",
      "source": [
        "## Accepting 5 different subject marks from user and displaying the grade of the student\n",
        "s1=int(input())\n",
        "s2=int(input())\n",
        "s3=int(input())\n",
        "s4=int(input())\n",
        "s5=int(input())\n",
        "tot=(s1+s2+s3+s4+s5)/5\n",
        "if tot > 90:\n",
        "  print(\"A\")\n",
        "elif tot > 80 :\n",
        "  print(\"B\")\n",
        "elif tot > 70 :\n",
        "  print(\"C\")\n",
        "elif tot > 60 :\n",
        "  print(\"D\")    \n",
        "elif tot > 50 :\n",
        "  print(\"E\")\n",
        "elif tot > 40 :\n",
        "  print(\"F\")"
      ],
      "metadata": {
        "colab": {
          "base_uri": "https://localhost:8080/"
        },
        "id": "GFEc2DOwXvp9",
        "outputId": "386819e3-cccf-4816-ed3d-9f6bbdcf173f"
      },
      "execution_count": 11,
      "outputs": [
        {
          "output_type": "stream",
          "name": "stdout",
          "text": [
            "112\n",
            "20\n",
            "90\n",
            "9\n",
            "62\n",
            "E\n"
          ]
        }
      ]
    },
    {
      "cell_type": "code",
      "source": [
        "##Printing all even numbers, odd numbers, count of even numbers, count of odd numbers within a given range.\n",
        "a=int(input())\n",
        "b=int(input())\n",
        "c=0\n",
        "o=0\n",
        "for x in range(a,b):\n",
        "  if(x%2==0) :\n",
        "    print(x)\n",
        "    c=c+1\n",
        "  elif(x%2!=0) :\n",
        "    print(x)\n",
        "    o=o+1\n",
        "print(c)\n",
        "print(o)"
      ],
      "metadata": {
        "colab": {
          "base_uri": "https://localhost:8080/"
        },
        "id": "p1lJ-oz0ZwGc",
        "outputId": "ef7d35c6-3fa6-4233-cfc2-118e238ac3e1"
      },
      "execution_count": 18,
      "outputs": [
        {
          "output_type": "stream",
          "name": "stdout",
          "text": [
            "0\n",
            "30\n",
            "0\n",
            "1\n",
            "2\n",
            "3\n",
            "4\n",
            "5\n",
            "6\n",
            "7\n",
            "8\n",
            "9\n",
            "10\n",
            "11\n",
            "12\n",
            "13\n",
            "14\n",
            "15\n",
            "16\n",
            "17\n",
            "18\n",
            "19\n",
            "20\n",
            "21\n",
            "22\n",
            "23\n",
            "24\n",
            "25\n",
            "26\n",
            "27\n",
            "28\n",
            "29\n",
            "15\n",
            "15\n"
          ]
        }
      ]
    },
    {
      "cell_type": "code",
      "source": [
        ""
      ],
      "metadata": {
        "id": "G5P8NXa6brs8"
      },
      "execution_count": null,
      "outputs": []
    }
  ]
}